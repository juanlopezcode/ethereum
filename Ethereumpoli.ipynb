{
  "nbformat": 4,
  "nbformat_minor": 0,
  "metadata": {
    "colab": {
      "name": "Ethereumpoli.ipynb",
      "provenance": [],
      "collapsed_sections": []
    },
    "kernelspec": {
      "name": "python3",
      "display_name": "Python 3"
    }
  },
  "cells": [
    {
      "cell_type": "code",
      "metadata": {
        "id": "9x6pGvLc0EhQ"
      },
      "source": [
        "! pip install requests &> /dev/null"
      ],
      "execution_count": 1,
      "outputs": []
    },
    {
      "cell_type": "code",
      "metadata": {
        "id": "aBaKXPbi0HdM"
      },
      "source": [
        "!pip install plotly &> /dev/null"
      ],
      "execution_count": 2,
      "outputs": []
    },
    {
      "cell_type": "code",
      "metadata": {
        "id": "JYiyJHcy0H50"
      },
      "source": [
        "!pip install -U scikit-learn &> /dev/null"
      ],
      "execution_count": 3,
      "outputs": []
    },
    {
      "cell_type": "code",
      "metadata": {
        "id": "jgmQ_NXGXin4"
      },
      "source": [
        "import requests\n",
        "import json\n",
        "import pandas as pd\n",
        "import matplotlib.pyplot as plt\n",
        "import plotly.graph_objects as go\n",
        "\n",
        "from datetime import datetime\n",
        "import datetime as dt\n",
        "import numpy as np\n",
        "time_conv = np.vectorize(dt.datetime.fromtimestamp)\n",
        "\n",
        "from sklearn.model_selection import train_test_split\n",
        "\n",
        "from scipy.stats import norm\n",
        "plt.style.use([\"bmh\"])\n",
        "\n",
        "from sklearn.tree import DecisionTreeRegressor\n",
        "from sklearn.linear_model import LinearRegression\n",
        "from sklearn.preprocessing import PolynomialFeatures"
      ],
      "execution_count": 4,
      "outputs": []
    },
    {
      "cell_type": "code",
      "metadata": {
        "id": "r-gov-_NXlui"
      },
      "source": [
        "eth = requests.get(\"https://api.kraken.com/0/public/OHLC?pair=ETHEUR&interval=1440\")\n",
        "eth.encoding = \"utf-8\"\n",
        "ethjson = eth.json()\n",
        "b = ethjson[\"result\"][\"XETHZEUR\"]\n",
        "\n",
        "\n",
        "time = []\n",
        "for e in b:\n",
        "  time.append(e[0])\n",
        "\n",
        "time = time_conv(time)\n",
        "time = pd.DataFrame(time)\n",
        "\n",
        "open = []\n",
        "for e in b:\n",
        "  open.append(e[1])\n",
        "\n",
        "open = pd.DataFrame(open)\n",
        "\n",
        "high = []\n",
        "for e in b:\n",
        "  high.append(e[2])\n",
        "\n",
        "high = pd.DataFrame(high)\n",
        "\n",
        "low = []\n",
        "for e in b:\n",
        "  low.append(e[3])\n",
        "\n",
        "low = pd.DataFrame(low)\n",
        "\n",
        "close = []\n",
        "for e in b:\n",
        "  close.append(e[4])\n",
        "\n",
        "close = pd.DataFrame(close)\n",
        "\n",
        "vwap = []\n",
        "for e in b:\n",
        "  vwap.append(e[5])\n",
        "\n",
        "vwap = pd.DataFrame(vwap)\n",
        "\n",
        "vol = []\n",
        "for e in b:\n",
        "  vol.append(e[6])\n",
        "\n",
        "vol = pd.DataFrame(vol)"
      ],
      "execution_count": 5,
      "outputs": []
    },
    {
      "cell_type": "code",
      "metadata": {
        "id": "-8jkymgCX6hx"
      },
      "source": [
        "dataframe = pd.concat([time,open,high,low,close,vwap,vol], axis=1)\n",
        "\n",
        "cols = [\"time\",\"open\",\"high\",\"low\",\"close\",\"volweightprice\",\"volume\"]\n",
        "dataframe.columns = cols\n",
        "\n",
        "dataframe.open = dataframe.open.astype(float)\n",
        "dataframe.high = dataframe.high.astype(float)\n",
        "dataframe.low = dataframe.low.astype(float)\n",
        "dataframe.close = dataframe.close.astype(float)\n",
        "dataframe.volweightprice = dataframe.volweightprice.astype(float)\n",
        "dataframe.volume = dataframe.volume.astype(float)"
      ],
      "execution_count": 6,
      "outputs": []
    },
    {
      "cell_type": "code",
      "metadata": {
        "id": "3q9YZmHcUDN0"
      },
      "source": [
        "dataframe[\"time\"] = pd.to_datetime(dataframe.time)\n",
        "dataframe.index = (dataframe[\"time\"])"
      ],
      "execution_count": 7,
      "outputs": []
    },
    {
      "cell_type": "code",
      "metadata": {
        "id": "co-RVV_3GPE_"
      },
      "source": [
        "dataframe.index = ((dataframe.index - pd.to_datetime(\"1995-01-01\")).days)"
      ],
      "execution_count": 8,
      "outputs": []
    },
    {
      "cell_type": "code",
      "metadata": {
        "id": "nICT_dCEGQz_"
      },
      "source": [
        "x = np.asarray(dataframe.index.values)\n",
        "\n",
        "yclose  = np.asarray(dataframe[\"close\"])\n",
        "yopen  = np.asarray(dataframe[\"open\"])\n",
        "yhigh  = np.asarray(dataframe[\"high\"])\n",
        "ylow  = np.asarray(dataframe[\"low\"])"
      ],
      "execution_count": 9,
      "outputs": []
    },
    {
      "cell_type": "code",
      "metadata": {
        "id": "5x6vaqxnGUGb"
      },
      "source": [
        "lrc = LinearRegression()\n",
        "lro = LinearRegression()\n",
        "lrh = LinearRegression()\n",
        "lrl = LinearRegression()\n",
        "\n",
        "poly = PolynomialFeatures(3)"
      ],
      "execution_count": 10,
      "outputs": []
    },
    {
      "cell_type": "code",
      "metadata": {
        "id": "l4jylU15GV4c"
      },
      "source": [
        "x_transform_forclose = poly.fit_transform(x.reshape(-1,1))\n",
        "x_transform_foropen = poly.fit_transform(x.reshape(-1,1))\n",
        "x_transform_forhigh = poly.fit_transform(x.reshape(-1,1))\n",
        "x_transform_forlow = poly.fit_transform(x.reshape(-1,1))"
      ],
      "execution_count": 11,
      "outputs": []
    },
    {
      "cell_type": "code",
      "metadata": {
        "colab": {
          "base_uri": "https://localhost:8080/"
        },
        "id": "dWEPfhHLGXYg",
        "outputId": "002d080c-733c-4245-b71d-7530234ada92"
      },
      "source": [
        "lrc.fit(x_transform_forclose, yclose.reshape(-1,1))\n",
        "lro.fit(x_transform_foropen, yopen.reshape(-1,1))\n",
        "lrh.fit(x_transform_forhigh, yhigh.reshape(-1,1))\n",
        "lrl.fit(x_transform_forlow, ylow.reshape(-1,1))\n",
        "print(\"Vivo Assistants\")"
      ],
      "execution_count": 12,
      "outputs": [
        {
          "output_type": "stream",
          "text": [
            "Vivo Assistants\n"
          ],
          "name": "stdout"
        }
      ]
    },
    {
      "cell_type": "code",
      "metadata": {
        "id": "iZ3a0qXhGY1g"
      },
      "source": [
        "y_close_learned  =  lrc.predict(x_transform_forclose)\n",
        "y_open_learned  =  lro.predict(x_transform_foropen)\n",
        "y_high_learned  =  lrh.predict(x_transform_forhigh)\n",
        "y_low_learned  =  lrl.predict(x_transform_forlow)"
      ],
      "execution_count": 13,
      "outputs": []
    },
    {
      "cell_type": "code",
      "metadata": {
        "id": "MFd325ozGaS7"
      },
      "source": [
        "xdaysfutures = np.asarray(pd.RangeIndex(start=x[-1]+1, stop=x[-1] + 15))"
      ],
      "execution_count": 14,
      "outputs": []
    },
    {
      "cell_type": "code",
      "metadata": {
        "id": "PyI2vDFgGb07"
      },
      "source": [
        "x_extended_transform = poly.fit_transform(xdaysfutures.reshape(-1,1))"
      ],
      "execution_count": 15,
      "outputs": []
    },
    {
      "cell_type": "code",
      "metadata": {
        "id": "lTlMT8_7GdWs"
      },
      "source": [
        "y_close_predict = lrc.predict(x_extended_transform)\n",
        "y_open_predict = lro.predict(x_extended_transform)\n",
        "y_high_predict = lrh.predict(x_extended_transform)\n",
        "y_low_predict = lrl.predict(x_extended_transform)"
      ],
      "execution_count": 16,
      "outputs": []
    },
    {
      "cell_type": "code",
      "metadata": {
        "id": "K34UTYnAGexk"
      },
      "source": [
        "x = pd.to_datetime(dataframe.index, origin=\"1995-01-01\", unit=\"D\")\n",
        "\n",
        "xdaysfutures = pd.to_datetime(xdaysfutures, origin=\"1995-01-01\", unit=\"D\")"
      ],
      "execution_count": 17,
      "outputs": []
    },
    {
      "cell_type": "code",
      "metadata": {
        "id": "XDiPqndrGgRk"
      },
      "source": [
        "y_open_predict = y_open_predict.flatten()\n",
        "y_high_predict = y_high_predict.flatten()\n",
        "y_low_predict = y_low_predict.flatten()\n",
        "y_close_predict = y_close_predict.flatten()"
      ],
      "execution_count": 18,
      "outputs": []
    },
    {
      "cell_type": "code",
      "metadata": {
        "id": "L8PpLEKeGhr_"
      },
      "source": [
        "dataset = pd.DataFrame({'time': xdaysfutures, 'open':y_open_predict, \"high\":y_high_predict,  \"low\":y_low_predict, \"close\":y_close_predict})"
      ],
      "execution_count": 19,
      "outputs": []
    },
    {
      "cell_type": "code",
      "metadata": {
        "id": "DwaEPurfGjfP"
      },
      "source": [
        "del dataframe[\"volweightprice\"]\n",
        "del dataframe[\"volume\"]"
      ],
      "execution_count": 20,
      "outputs": []
    },
    {
      "cell_type": "code",
      "metadata": {
        "id": "cS9DZz-eGlei"
      },
      "source": [
        "frames = [dataframe, dataset]\n",
        "\n",
        "result = pd.concat((dataframe,dataset), ignore_index=True)"
      ],
      "execution_count": 21,
      "outputs": []
    },
    {
      "cell_type": "code",
      "metadata": {
        "colab": {
          "base_uri": "https://localhost:8080/"
        },
        "id": "OeW12Ccs10CJ",
        "outputId": "70512983-b861-44f1-90fc-4e0eb87a5426"
      },
      "source": [
        "print(\"Price predcition for\", dt.date.today() + dt.timedelta(days=1) ,\":\", \"%.2f\" % y_close_predict[0],\"Euros\")\n",
        "print(\"Price predcition for\", dt.date.today() + dt.timedelta(days=2) ,\":\", \"%.2f\" % y_close_predict[1],\"Euros\")\n",
        "print(\"Price predcition for\", dt.date.today() + dt.timedelta(days=3) ,\":\", \"%.2f\" % y_close_predict[2],\"Euros\")\n",
        "print(\"Price predcition for\", dt.date.today() + dt.timedelta(days=4) ,\":\", \"%.2f\" % y_close_predict[3],\"Euros\")\n",
        "print(\"Price predcition for\", dt.date.today() + dt.timedelta(days=5) ,\":\", \"%.2f\" % y_close_predict[4],\"Euros\")\n",
        "print(\"Price predcition for\", dt.date.today() + dt.timedelta(days=6) ,\":\", \"%.2f\" % y_close_predict[5],\"Euros\")\n",
        "print(\"Price predcition for\", dt.date.today() + dt.timedelta(days=7) ,\":\", \"%.2f\" % y_close_predict[6],\"Euros\")\n",
        "print(\"Price predcition for\", dt.date.today() + dt.timedelta(days=8) ,\":\", \"%.2f\" % y_close_predict[7],\"Euros\")\n",
        "print(\"Price predcition for\", dt.date.today() + dt.timedelta(days=9) ,\":\", \"%.2f\" % y_close_predict[8],\"Euros\")\n",
        "print(\"Price predcition for\", dt.date.today() + dt.timedelta(days=10) ,\":\", \"%.2f\" % y_close_predict[9],\"Euros\")\n",
        "print(\"Price predcition for\", dt.date.today() + dt.timedelta(days=11) ,\":\", \"%.2f\" % y_close_predict[10],\"Euros\")\n",
        "print(\"Price predcition for\", dt.date.today() + dt.timedelta(days=12) ,\":\", \"%.2f\" % y_close_predict[11],\"Euros\")\n",
        "print(\"Price predcition for\", dt.date.today() + dt.timedelta(days=13) ,\":\", \"%.2f\" % y_close_predict[12],\"Euros\")\n",
        "print(\"Price predcition for\", dt.date.today() + dt.timedelta(days=14) ,\":\", \"%.2f\" % y_close_predict[13],\"Euros\")"
      ],
      "execution_count": 22,
      "outputs": [
        {
          "output_type": "stream",
          "text": [
            "Price predcition for 2020-12-19 : 504.11 Euros\n",
            "Price predcition for 2020-12-20 : 506.79 Euros\n",
            "Price predcition for 2020-12-21 : 509.48 Euros\n",
            "Price predcition for 2020-12-22 : 512.18 Euros\n",
            "Price predcition for 2020-12-23 : 514.90 Euros\n",
            "Price predcition for 2020-12-24 : 517.63 Euros\n",
            "Price predcition for 2020-12-25 : 520.38 Euros\n",
            "Price predcition for 2020-12-26 : 523.13 Euros\n",
            "Price predcition for 2020-12-27 : 525.90 Euros\n",
            "Price predcition for 2020-12-28 : 528.69 Euros\n",
            "Price predcition for 2020-12-29 : 531.49 Euros\n",
            "Price predcition for 2020-12-30 : 534.30 Euros\n",
            "Price predcition for 2020-12-31 : 537.13 Euros\n",
            "Price predcition for 2021-01-01 : 539.97 Euros\n"
          ],
          "name": "stdout"
        }
      ]
    },
    {
      "cell_type": "code",
      "metadata": {
        "colab": {
          "base_uri": "https://localhost:8080/",
          "height": 338
        },
        "id": "3hRuBHGBXsTO",
        "outputId": "4e838f51-104d-42aa-e353-4ab2c0efa4ae"
      },
      "source": [
        "plt.plot(x, dataframe[\"close\"], label=\"History\")\n",
        "plt.plot(x,y_close_learned, color=\"r\", label=\"Algorithm\")\n",
        "plt.plot(xdaysfutures, y_close_predict, color=\"g\", label=\"Future Predictions\")\n",
        "plt.suptitle(\"Ethereum Predictions\")\n",
        "plt.legend()\n",
        "plt.xlabel(\"Dates\")\n",
        "plt.ylabel(\"Euros\")\n",
        "plt.xticks(rotation=90)\n",
        "plt.show()"
      ],
      "execution_count": 23,
      "outputs": [
        {
          "output_type": "display_data",
          "data": {
            "image/png": "[encoded data removed]",
            "text/plain": [
              "<Figure size 432x288 with 1 Axes>"
            ]
          },
          "metadata": {
            "tags": [],
            "needs_background": "light"
          }
        }
      ]
    }
  ]
}